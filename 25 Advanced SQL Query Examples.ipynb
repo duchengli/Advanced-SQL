{
    "metadata": {
        "kernelspec": {
            "name": "SQL",
            "display_name": "SQL",
            "language": "sql"
        },
        "language_info": {
            "name": "sql",
            "version": ""
        }
    },
    "nbformat_minor": 2,
    "nbformat": 4,
    "cells": [
        {
            "cell_type": "code",
            "source": [
                "USE TSQLV4;\r\n",
                "SET NOCOUNT ON\r\n",
                "\r\n",
                "CREATE TABLE ##tmp1\r\n",
                "(\r\n",
                "    Rcd_Id INT IDENTITY(1, 1) NOT NULL,\r\n",
                "    employee_id INT,\r\n",
                "    first_name VARCHAR(25),\r\n",
                "    last_name VARCHAR(25),\r\n",
                "    dept_id VARCHAR(25),\r\n",
                "    manager_id INT,\r\n",
                "    salary INT,\r\n",
                "    expertise VARCHAR(25),\r\n",
                "    PRIMARY KEY (Rcd_Id)\r\n",
                ")\r\n",
                "\r\n",
                "INSERT INTO ##tmp1\r\n",
                "VALUES\r\n",
                "(100, 'John', 'White', 'IT', 103, 120000, 'Senior')\r\n",
                "INSERT INTO ##tmp1\r\n",
                "VALUES\r\n",
                "(101, 'Mary', 'Danner', 'Account', 109, 80000, 'junior')\r\n",
                "INSERT INTO ##tmp1\r\n",
                "VALUES\r\n",
                "(102, 'Ann', 'Lynn', 'Sales', 107, 140000, 'Semisenior')\r\n",
                "INSERT INTO ##tmp1\r\n",
                "VALUES\r\n",
                "(103, 'Peter', 'O''connor', 'IT', 110, 130000, 'Senior')\r\n",
                "INSERT INTO ##tmp1\r\n",
                "VALUES\r\n",
                "(106, 'Sue', 'Sanchez', 'Sales', 107, 110000, 'Junior')\r\n",
                "INSERT INTO ##tmp1\r\n",
                "VALUES\r\n",
                "(107, 'Marta', 'Doe', 'Sales', 110, 180000, 'Senior')\r\n",
                "INSERT INTO ##tmp1\r\n",
                "VALUES\r\n",
                "(109, 'Ann', 'Danner', 'Account', 110, 90000, 'Senior')\r\n",
                "INSERT INTO ##tmp1\r\n",
                "(\r\n",
                "    employee_id,\r\n",
                "    first_name,\r\n",
                "    last_name,\r\n",
                "    dept_id,\r\n",
                "    salary,\r\n",
                "    expertise\r\n",
                ")\r\n",
                "VALUES\r\n",
                "(110, 'Simon', 'Yang', 'CEO', 250000, 'Senior')\r\n",
                "INSERT INTO ##tmp1\r\n",
                "VALUES\r\n",
                "(111, 'Juan', 'Graue', 'Sales', 102, 37000, 'Junior')\r\n",
                "\r\n",
                "-- Select * from #tmp1\r\n",
                "\r\n",
                "--drop table ##tmp1"
            ],
            "metadata": {
                "azdata_cell_guid": "f3c0a4c4-b284-4150-a886-6213d460ea41",
                "language": "sql",
                "tags": []
            },
            "outputs": [
                {
                    "output_type": "display_data",
                    "data": {
                        "text/html": "命令已成功完成。"
                    },
                    "metadata": {}
                },
                {
                    "output_type": "display_data",
                    "data": {
                        "text/html": "执行时间总计: 00:00:00.022"
                    },
                    "metadata": {}
                }
            ],
            "execution_count": 5
        },
        {
            "cell_type": "markdown",
            "source": [
                "- ROW\\_NUMBER()/RANK()/DENSE\\_RANK()区别\n",
                "\n",
                "    - ROW\\_NUMBER()：排序，不会有重复的排序数值。对于相等的两个数字，排序序号不一致\n",
                "    - DENSE\\_RANK()：排序，可有重复值。对于相等的两个数字，排序序号一致\n",
                "    - RANK()：排序，可有重复值。对于相等的两个数字，排序序号一致，但是总数会减少"
            ],
            "metadata": {
                "language": "sql",
                "azdata_cell_guid": "a9493a0c-82ac-4b94-998e-068e86938cd7"
            },
            "attachments": {}
        },
        {
            "cell_type": "code",
            "source": [
                "SELECT employee_id,\r\n",
                "       last_name,\r\n",
                "       first_name,\r\n",
                "       salary,\r\n",
                "       RANK() OVER (ORDER BY salary DESC) AS ranking\r\n",
                "FROM ##tmp1"
            ],
            "metadata": {
                "azdata_cell_guid": "68a10e0f-75dc-42e3-b1f0-41135c982c31",
                "language": "sql",
                "tags": []
            },
            "outputs": [
                {
                    "output_type": "display_data",
                    "data": {
                        "text/html": "命令已成功完成。"
                    },
                    "metadata": {}
                },
                {
                    "output_type": "display_data",
                    "data": {
                        "text/html": "执行时间总计: 00:00:00.009"
                    },
                    "metadata": {}
                },
                {
                    "output_type": "execute_result",
                    "execution_count": 18,
                    "data": {
                        "application/vnd.dataresource+json": {
                            "schema": {
                                "fields": [
                                    {
                                        "name": "employee_id"
                                    },
                                    {
                                        "name": "last_name"
                                    },
                                    {
                                        "name": "first_name"
                                    },
                                    {
                                        "name": "salary"
                                    },
                                    {
                                        "name": "ranking"
                                    }
                                ]
                            },
                            "data": [
                                {
                                    "0": "110",
                                    "1": "Yang",
                                    "2": "Simon",
                                    "3": "250000",
                                    "4": "1"
                                },
                                {
                                    "0": "107",
                                    "1": "Doe",
                                    "2": "Marta",
                                    "3": "180000",
                                    "4": "2"
                                },
                                {
                                    "0": "102",
                                    "1": "Lynn",
                                    "2": "Ann",
                                    "3": "140000",
                                    "4": "3"
                                },
                                {
                                    "0": "103",
                                    "1": "O'connor",
                                    "2": "Peter",
                                    "3": "130000",
                                    "4": "4"
                                },
                                {
                                    "0": "100",
                                    "1": "White",
                                    "2": "John",
                                    "3": "120000",
                                    "4": "5"
                                },
                                {
                                    "0": "106",
                                    "1": "Sanchez",
                                    "2": "Sue",
                                    "3": "110000",
                                    "4": "6"
                                },
                                {
                                    "0": "109",
                                    "1": "Danner",
                                    "2": "Ann",
                                    "3": "90000",
                                    "4": "7"
                                },
                                {
                                    "0": "101",
                                    "1": "Danner",
                                    "2": "Mary",
                                    "3": "80000",
                                    "4": "8"
                                },
                                {
                                    "0": "111",
                                    "1": "Graue",
                                    "2": "Juan",
                                    "3": "37000",
                                    "4": "9"
                                }
                            ]
                        },
                        "text/html": "<table><tr><th>employee_id</th><th>last_name</th><th>first_name</th><th>salary</th><th>ranking</th></tr><tr><td>110</td><td>Yang</td><td>Simon</td><td>250000</td><td>1</td></tr><tr><td>107</td><td>Doe</td><td>Marta</td><td>180000</td><td>2</td></tr><tr><td>102</td><td>Lynn</td><td>Ann</td><td>140000</td><td>3</td></tr><tr><td>103</td><td>O'connor</td><td>Peter</td><td>130000</td><td>4</td></tr><tr><td>100</td><td>White</td><td>John</td><td>120000</td><td>5</td></tr><tr><td>106</td><td>Sanchez</td><td>Sue</td><td>110000</td><td>6</td></tr><tr><td>109</td><td>Danner</td><td>Ann</td><td>90000</td><td>7</td></tr><tr><td>101</td><td>Danner</td><td>Mary</td><td>80000</td><td>8</td></tr><tr><td>111</td><td>Graue</td><td>Juan</td><td>37000</td><td>9</td></tr></table>"
                    },
                    "metadata": {}
                }
            ],
            "execution_count": 18
        },
        {
            "cell_type": "code",
            "source": [
                "WITH employee_ranking\r\n",
                "AS (SELECT employee_id,\r\n",
                "           last_name,\r\n",
                "           first_name,\r\n",
                "           salary,\r\n",
                "           RANK() OVER (ORDER BY salary DESC) AS ranking\r\n",
                "    FROM ##tmp1)\r\n",
                "SELECT employee_id,\r\n",
                "       last_name,\r\n",
                "       first_name,\r\n",
                "       salary\r\n",
                "FROM employee_ranking\r\n",
                "WHERE ranking <= 5\r\n",
                "ORDER BY ranking"
            ],
            "metadata": {
                "language": "sql",
                "azdata_cell_guid": "861adf0d-7e24-4d32-ad0b-1e38bc589686"
            },
            "outputs": [
                {
                    "output_type": "display_data",
                    "data": {
                        "text/html": "命令已成功完成。"
                    },
                    "metadata": {}
                },
                {
                    "output_type": "display_data",
                    "data": {
                        "text/html": "执行时间总计: 00:00:00.032"
                    },
                    "metadata": {}
                },
                {
                    "output_type": "execute_result",
                    "execution_count": 20,
                    "data": {
                        "application/vnd.dataresource+json": {
                            "schema": {
                                "fields": [
                                    {
                                        "name": "employee_id"
                                    },
                                    {
                                        "name": "last_name"
                                    },
                                    {
                                        "name": "first_name"
                                    },
                                    {
                                        "name": "salary"
                                    }
                                ]
                            },
                            "data": [
                                {
                                    "0": "110",
                                    "1": "Yang",
                                    "2": "Simon",
                                    "3": "250000"
                                },
                                {
                                    "0": "107",
                                    "1": "Doe",
                                    "2": "Marta",
                                    "3": "180000"
                                },
                                {
                                    "0": "102",
                                    "1": "Lynn",
                                    "2": "Ann",
                                    "3": "140000"
                                },
                                {
                                    "0": "103",
                                    "1": "O'connor",
                                    "2": "Peter",
                                    "3": "130000"
                                },
                                {
                                    "0": "100",
                                    "1": "White",
                                    "2": "John",
                                    "3": "120000"
                                }
                            ]
                        },
                        "text/html": "<table><tr><th>employee_id</th><th>last_name</th><th>first_name</th><th>salary</th></tr><tr><td>110</td><td>Yang</td><td>Simon</td><td>250000</td></tr><tr><td>107</td><td>Doe</td><td>Marta</td><td>180000</td></tr><tr><td>102</td><td>Lynn</td><td>Ann</td><td>140000</td></tr><tr><td>103</td><td>O'connor</td><td>Peter</td><td>130000</td></tr><tr><td>100</td><td>White</td><td>John</td><td>120000</td></tr></table>"
                    },
                    "metadata": {}
                }
            ],
            "execution_count": 20
        },
        {
            "cell_type": "code",
            "source": [
                "WITH employee_ranking\r\n",
                "AS (SELECT employee_id,\r\n",
                "           last_name,\r\n",
                "           first_name,\r\n",
                "           salary,\r\n",
                "           RANK() OVER (ORDER BY salary ASC) AS ranking\r\n",
                "    FROM ##tmp1)\r\n",
                "SELECT employee_id,\r\n",
                "       last_name,\r\n",
                "       first_name,\r\n",
                "       salary\r\n",
                "FROM employee_ranking\r\n",
                "WHERE ranking <= 5\r\n",
                "ORDER BY ranking"
            ],
            "metadata": {
                "language": "sql",
                "azdata_cell_guid": "06e8f240-4143-4f02-b505-f683cbc4a219",
                "tags": []
            },
            "outputs": [
                {
                    "output_type": "display_data",
                    "data": {
                        "text/html": "命令已成功完成。"
                    },
                    "metadata": {}
                },
                {
                    "output_type": "display_data",
                    "data": {
                        "text/html": "执行时间总计: 00:00:00.018"
                    },
                    "metadata": {}
                },
                {
                    "output_type": "execute_result",
                    "execution_count": 21,
                    "data": {
                        "application/vnd.dataresource+json": {
                            "schema": {
                                "fields": [
                                    {
                                        "name": "employee_id"
                                    },
                                    {
                                        "name": "last_name"
                                    },
                                    {
                                        "name": "first_name"
                                    },
                                    {
                                        "name": "salary"
                                    }
                                ]
                            },
                            "data": [
                                {
                                    "0": "111",
                                    "1": "Graue",
                                    "2": "Juan",
                                    "3": "37000"
                                },
                                {
                                    "0": "101",
                                    "1": "Danner",
                                    "2": "Mary",
                                    "3": "80000"
                                },
                                {
                                    "0": "109",
                                    "1": "Danner",
                                    "2": "Ann",
                                    "3": "90000"
                                },
                                {
                                    "0": "106",
                                    "1": "Sanchez",
                                    "2": "Sue",
                                    "3": "110000"
                                },
                                {
                                    "0": "100",
                                    "1": "White",
                                    "2": "John",
                                    "3": "120000"
                                }
                            ]
                        },
                        "text/html": "<table><tr><th>employee_id</th><th>last_name</th><th>first_name</th><th>salary</th></tr><tr><td>111</td><td>Graue</td><td>Juan</td><td>37000</td></tr><tr><td>101</td><td>Danner</td><td>Mary</td><td>80000</td></tr><tr><td>109</td><td>Danner</td><td>Ann</td><td>90000</td></tr><tr><td>106</td><td>Sanchez</td><td>Sue</td><td>110000</td></tr><tr><td>100</td><td>White</td><td>John</td><td>120000</td></tr></table>"
                    },
                    "metadata": {}
                }
            ],
            "execution_count": 21
        },
        {
            "cell_type": "code",
            "source": [
                "WITH employee_ranking\r\n",
                "AS (SELECT employee_id,\r\n",
                "           last_name,\r\n",
                "           first_name,\r\n",
                "           salary,\r\n",
                "           RANK() OVER (ORDER BY salary ASC) AS ranking\r\n",
                "    FROM ##tmp1)\r\n",
                "SELECT employee_id,\r\n",
                "       last_name,\r\n",
                "       first_name,\r\n",
                "       salary\r\n",
                "FROM employee_ranking\r\n",
                "WHERE ranking = 2\r\n",
                "ORDER BY ranking"
            ],
            "metadata": {
                "language": "sql",
                "azdata_cell_guid": "d9e026d5-9493-465b-adf0-9a275ea55268"
            },
            "outputs": [
                {
                    "output_type": "display_data",
                    "data": {
                        "text/html": "命令已成功完成。"
                    },
                    "metadata": {}
                },
                {
                    "output_type": "display_data",
                    "data": {
                        "text/html": "执行时间总计: 00:00:00.008"
                    },
                    "metadata": {}
                },
                {
                    "output_type": "execute_result",
                    "execution_count": 2,
                    "data": {
                        "application/vnd.dataresource+json": {
                            "schema": {
                                "fields": [
                                    {
                                        "name": "employee_id"
                                    },
                                    {
                                        "name": "last_name"
                                    },
                                    {
                                        "name": "first_name"
                                    },
                                    {
                                        "name": "salary"
                                    }
                                ]
                            },
                            "data": [
                                {
                                    "0": "101",
                                    "1": "Danner",
                                    "2": "Mary",
                                    "3": "80000"
                                }
                            ]
                        },
                        "text/html": "<table><tr><th>employee_id</th><th>last_name</th><th>first_name</th><th>salary</th></tr><tr><td>101</td><td>Danner</td><td>Mary</td><td>80000</td></tr></table>"
                    },
                    "metadata": {}
                }
            ],
            "execution_count": 2
        },
        {
            "cell_type": "code",
            "source": [
                "WITH employee_ranking\r\n",
                "AS (SELECT employee_id,\r\n",
                "           last_name,\r\n",
                "           first_name,\r\n",
                "           salary,\r\n",
                "           dept_id,\r\n",
                "           RANK() OVER (PARTITION BY dept_id ORDER BY salary DESC) AS ranking\r\n",
                "    FROM ##tmp1)\r\n",
                "SELECT dept_id,\r\n",
                "       employee_id,\r\n",
                "       last_name,\r\n",
                "       first_name,\r\n",
                "       salary\r\n",
                "FROM employee_ranking\r\n",
                "WHERE ranking = 2\r\n",
                "ORDER BY dept_id,\r\n",
                "         ranking"
            ],
            "metadata": {
                "language": "sql",
                "azdata_cell_guid": "23832dd2-105d-4fdf-883a-42dd0b6ea305"
            },
            "outputs": [
                {
                    "output_type": "display_data",
                    "data": {
                        "text/html": "命令已成功完成。"
                    },
                    "metadata": {}
                },
                {
                    "output_type": "display_data",
                    "data": {
                        "text/html": "执行时间总计: 00:00:00.033"
                    },
                    "metadata": {}
                },
                {
                    "output_type": "execute_result",
                    "execution_count": 7,
                    "data": {
                        "application/vnd.dataresource+json": {
                            "schema": {
                                "fields": [
                                    {
                                        "name": "dept_id"
                                    },
                                    {
                                        "name": "employee_id"
                                    },
                                    {
                                        "name": "last_name"
                                    },
                                    {
                                        "name": "first_name"
                                    },
                                    {
                                        "name": "salary"
                                    }
                                ]
                            },
                            "data": [
                                {
                                    "0": "Account",
                                    "1": "101",
                                    "2": "Danner",
                                    "3": "Mary",
                                    "4": "80000"
                                },
                                {
                                    "0": "IT",
                                    "1": "100",
                                    "2": "White",
                                    "3": "John",
                                    "4": "120000"
                                },
                                {
                                    "0": "Sales",
                                    "1": "102",
                                    "2": "Lynn",
                                    "3": "Ann",
                                    "4": "140000"
                                }
                            ]
                        },
                        "text/html": "<table><tr><th>dept_id</th><th>employee_id</th><th>last_name</th><th>first_name</th><th>salary</th></tr><tr><td>Account</td><td>101</td><td>Danner</td><td>Mary</td><td>80000</td></tr><tr><td>IT</td><td>100</td><td>White</td><td>John</td><td>120000</td></tr><tr><td>Sales</td><td>102</td><td>Lynn</td><td>Ann</td><td>140000</td></tr></table>"
                    },
                    "metadata": {}
                }
            ],
            "execution_count": 7
        },
        {
            "cell_type": "markdown",
            "source": [
                "- there is a SQL function called NTILE() which receives an integer parameter indicating the number of subsets into which we want to divide the entire result set."
            ],
            "metadata": {
                "language": "sql",
                "azdata_cell_guid": "5b9cd8d3-1914-47bc-b5f4-923cdd161a4f"
            },
            "attachments": {}
        },
        {
            "cell_type": "code",
            "source": [
                "WITH employee_ranking\r\n",
                "AS (SELECT employee_id,\r\n",
                "           last_name,\r\n",
                "           first_name,\r\n",
                "           salary,\r\n",
                "           NTILE(2) OVER (ORDER BY salary) AS ntile\r\n",
                "    FROM ##tmp1)\r\n",
                "SELECT employee_id,\r\n",
                "       last_name,\r\n",
                "       first_name,\r\n",
                "       salary\r\n",
                "FROM employee_ranking\r\n",
                "WHERE ntile = 1\r\n",
                "ORDER BY salary"
            ],
            "metadata": {
                "language": "sql",
                "azdata_cell_guid": "868cad7e-6490-4f67-8f54-57dd24520e82"
            },
            "outputs": [
                {
                    "output_type": "display_data",
                    "data": {
                        "text/html": "命令已成功完成。"
                    },
                    "metadata": {}
                },
                {
                    "output_type": "display_data",
                    "data": {
                        "text/html": "执行时间总计: 00:00:00.011"
                    },
                    "metadata": {}
                },
                {
                    "output_type": "execute_result",
                    "execution_count": 8,
                    "data": {
                        "application/vnd.dataresource+json": {
                            "schema": {
                                "fields": [
                                    {
                                        "name": "employee_id"
                                    },
                                    {
                                        "name": "last_name"
                                    },
                                    {
                                        "name": "first_name"
                                    },
                                    {
                                        "name": "salary"
                                    }
                                ]
                            },
                            "data": [
                                {
                                    "0": "111",
                                    "1": "Graue",
                                    "2": "Juan",
                                    "3": "37000"
                                },
                                {
                                    "0": "101",
                                    "1": "Danner",
                                    "2": "Mary",
                                    "3": "80000"
                                },
                                {
                                    "0": "109",
                                    "1": "Danner",
                                    "2": "Ann",
                                    "3": "90000"
                                },
                                {
                                    "0": "106",
                                    "1": "Sanchez",
                                    "2": "Sue",
                                    "3": "110000"
                                },
                                {
                                    "0": "100",
                                    "1": "White",
                                    "2": "John",
                                    "3": "120000"
                                }
                            ]
                        },
                        "text/html": "<table><tr><th>employee_id</th><th>last_name</th><th>first_name</th><th>salary</th></tr><tr><td>111</td><td>Graue</td><td>Juan</td><td>37000</td></tr><tr><td>101</td><td>Danner</td><td>Mary</td><td>80000</td></tr><tr><td>109</td><td>Danner</td><td>Ann</td><td>90000</td></tr><tr><td>106</td><td>Sanchez</td><td>Sue</td><td>110000</td></tr><tr><td>100</td><td>White</td><td>John</td><td>120000</td></tr></table>"
                    },
                    "metadata": {}
                }
            ],
            "execution_count": 8
        },
        {
            "cell_type": "code",
            "source": [
                "WITH employee_ranking\r\n",
                "AS (SELECT employee_id,\r\n",
                "           last_name,\r\n",
                "           first_name,\r\n",
                "           salary,\r\n",
                "           NTILE(4) OVER (ORDER BY salary) AS ntile\r\n",
                "    FROM ##tmp1)\r\n",
                "SELECT employee_id,\r\n",
                "       last_name,\r\n",
                "       first_name,\r\n",
                "       salary\r\n",
                "FROM employee_ranking\r\n",
                "WHERE ntile = 4\r\n",
                "ORDER BY salary"
            ],
            "metadata": {
                "language": "sql",
                "azdata_cell_guid": "e4333223-20e9-4f87-9612-13978ca21778"
            },
            "outputs": [
                {
                    "output_type": "display_data",
                    "data": {
                        "text/html": "命令已成功完成。"
                    },
                    "metadata": {}
                },
                {
                    "output_type": "display_data",
                    "data": {
                        "text/html": "执行时间总计: 00:00:00.010"
                    },
                    "metadata": {}
                },
                {
                    "output_type": "execute_result",
                    "execution_count": 9,
                    "data": {
                        "application/vnd.dataresource+json": {
                            "schema": {
                                "fields": [
                                    {
                                        "name": "employee_id"
                                    },
                                    {
                                        "name": "last_name"
                                    },
                                    {
                                        "name": "first_name"
                                    },
                                    {
                                        "name": "salary"
                                    }
                                ]
                            },
                            "data": [
                                {
                                    "0": "107",
                                    "1": "Doe",
                                    "2": "Marta",
                                    "3": "180000"
                                },
                                {
                                    "0": "110",
                                    "1": "Yang",
                                    "2": "Simon",
                                    "3": "250000"
                                }
                            ]
                        },
                        "text/html": "<table><tr><th>employee_id</th><th>last_name</th><th>first_name</th><th>salary</th></tr><tr><td>107</td><td>Doe</td><td>Marta</td><td>180000</td></tr><tr><td>110</td><td>Yang</td><td>Simon</td><td>250000</td></tr></table>"
                    },
                    "metadata": {}
                }
            ],
            "execution_count": 9
        },
        {
            "cell_type": "code",
            "source": [
                "SELECT employee_id,\r\n",
                "       last_name,\r\n",
                "       first_name,\r\n",
                "       salary,\r\n",
                "       ROW_NUMBER() OVER (ORDER BY employee_id) AS ranking_position\r\n",
                "FROM ##tmp1"
            ],
            "metadata": {
                "language": "sql",
                "azdata_cell_guid": "821793e8-f1af-4e8a-9cd7-30ca92dc5530"
            },
            "outputs": [
                {
                    "output_type": "display_data",
                    "data": {
                        "text/html": "命令已成功完成。"
                    },
                    "metadata": {}
                },
                {
                    "output_type": "display_data",
                    "data": {
                        "text/html": "执行时间总计: 00:00:00.008"
                    },
                    "metadata": {}
                },
                {
                    "output_type": "execute_result",
                    "execution_count": 11,
                    "data": {
                        "application/vnd.dataresource+json": {
                            "schema": {
                                "fields": [
                                    {
                                        "name": "employee_id"
                                    },
                                    {
                                        "name": "last_name"
                                    },
                                    {
                                        "name": "first_name"
                                    },
                                    {
                                        "name": "salary"
                                    },
                                    {
                                        "name": "ranking_position"
                                    }
                                ]
                            },
                            "data": [
                                {
                                    "0": "100",
                                    "1": "White",
                                    "2": "John",
                                    "3": "120000",
                                    "4": "1"
                                },
                                {
                                    "0": "101",
                                    "1": "Danner",
                                    "2": "Mary",
                                    "3": "80000",
                                    "4": "2"
                                },
                                {
                                    "0": "102",
                                    "1": "Lynn",
                                    "2": "Ann",
                                    "3": "140000",
                                    "4": "3"
                                },
                                {
                                    "0": "103",
                                    "1": "O'connor",
                                    "2": "Peter",
                                    "3": "130000",
                                    "4": "4"
                                },
                                {
                                    "0": "106",
                                    "1": "Sanchez",
                                    "2": "Sue",
                                    "3": "110000",
                                    "4": "5"
                                },
                                {
                                    "0": "107",
                                    "1": "Doe",
                                    "2": "Marta",
                                    "3": "180000",
                                    "4": "6"
                                },
                                {
                                    "0": "109",
                                    "1": "Danner",
                                    "2": "Ann",
                                    "3": "90000",
                                    "4": "7"
                                },
                                {
                                    "0": "110",
                                    "1": "Yang",
                                    "2": "Simon",
                                    "3": "250000",
                                    "4": "8"
                                },
                                {
                                    "0": "111",
                                    "1": "Graue",
                                    "2": "Juan",
                                    "3": "37000",
                                    "4": "9"
                                }
                            ]
                        },
                        "text/html": "<table><tr><th>employee_id</th><th>last_name</th><th>first_name</th><th>salary</th><th>ranking_position</th></tr><tr><td>100</td><td>White</td><td>John</td><td>120000</td><td>1</td></tr><tr><td>101</td><td>Danner</td><td>Mary</td><td>80000</td><td>2</td></tr><tr><td>102</td><td>Lynn</td><td>Ann</td><td>140000</td><td>3</td></tr><tr><td>103</td><td>O'connor</td><td>Peter</td><td>130000</td><td>4</td></tr><tr><td>106</td><td>Sanchez</td><td>Sue</td><td>110000</td><td>5</td></tr><tr><td>107</td><td>Doe</td><td>Marta</td><td>180000</td><td>6</td></tr><tr><td>109</td><td>Danner</td><td>Ann</td><td>90000</td><td>7</td></tr><tr><td>110</td><td>Yang</td><td>Simon</td><td>250000</td><td>8</td></tr><tr><td>111</td><td>Graue</td><td>Juan</td><td>37000</td><td>9</td></tr></table>"
                    },
                    "metadata": {}
                }
            ],
            "execution_count": 11
        },
        {
            "cell_type": "code",
            "source": [
                "SELECT e1.first_name + ' ' + e1.last_name AS manager_name,\r\n",
                "       e2.first_name + ' ' + e2.last_name AS employee_name\r\n",
                "FROM ##tmp1 e1\r\n",
                "    JOIN ##tmp1 e2\r\n",
                "        ON e1.employee_id = e2.manager_id\r\n",
                ""
            ],
            "metadata": {
                "language": "sql",
                "azdata_cell_guid": "05c24a7e-1319-4454-8204-aeef0a56fa8d",
                "tags": []
            },
            "outputs": [
                {
                    "output_type": "display_data",
                    "data": {
                        "text/html": "命令已成功完成。"
                    },
                    "metadata": {}
                },
                {
                    "output_type": "display_data",
                    "data": {
                        "text/html": "执行时间总计: 00:00:00.016"
                    },
                    "metadata": {}
                },
                {
                    "output_type": "execute_result",
                    "execution_count": 5,
                    "data": {
                        "application/vnd.dataresource+json": {
                            "schema": {
                                "fields": [
                                    {
                                        "name": "manager_name"
                                    },
                                    {
                                        "name": "employee_name"
                                    }
                                ]
                            },
                            "data": [
                                {
                                    "0": "Ann Lynn",
                                    "1": "Juan Graue"
                                },
                                {
                                    "0": "Peter O'connor",
                                    "1": "John White"
                                },
                                {
                                    "0": "Marta Doe",
                                    "1": "Ann Lynn"
                                },
                                {
                                    "0": "Marta Doe",
                                    "1": "Sue Sanchez"
                                },
                                {
                                    "0": "Ann Danner",
                                    "1": "Mary Danner"
                                },
                                {
                                    "0": "Simon Yang",
                                    "1": "Peter O'connor"
                                },
                                {
                                    "0": "Simon Yang",
                                    "1": "Marta Doe"
                                },
                                {
                                    "0": "Simon Yang",
                                    "1": "Ann Danner"
                                }
                            ]
                        },
                        "text/html": "<table><tr><th>manager_name</th><th>employee_name</th></tr><tr><td>Ann Lynn</td><td>Juan Graue</td></tr><tr><td>Peter O'connor</td><td>John White</td></tr><tr><td>Marta Doe</td><td>Ann Lynn</td></tr><tr><td>Marta Doe</td><td>Sue Sanchez</td></tr><tr><td>Ann Danner</td><td>Mary Danner</td></tr><tr><td>Simon Yang</td><td>Peter O'connor</td></tr><tr><td>Simon Yang</td><td>Marta Doe</td></tr><tr><td>Simon Yang</td><td>Ann Danner</td></tr></table>"
                    },
                    "metadata": {}
                }
            ],
            "execution_count": 5
        },
        {
            "cell_type": "code",
            "source": [
                "SELECT first_name,\r\n",
                "       last_name,\r\n",
                "       salary\r\n",
                "FROM ##tmp1\r\n",
                "WHERE salary >\r\n",
                "(\r\n",
                "    SELECT AVG(salary)FROM ##tmp1\r\n",
                ")"
            ],
            "metadata": {
                "language": "sql",
                "azdata_cell_guid": "fe34dab2-4761-4f88-89f5-c25a97f879db"
            },
            "outputs": [
                {
                    "output_type": "display_data",
                    "data": {
                        "text/html": "命令已成功完成。"
                    },
                    "metadata": {}
                },
                {
                    "output_type": "display_data",
                    "data": {
                        "text/html": "执行时间总计: 00:00:00.013"
                    },
                    "metadata": {}
                },
                {
                    "output_type": "execute_result",
                    "execution_count": 7,
                    "data": {
                        "application/vnd.dataresource+json": {
                            "schema": {
                                "fields": [
                                    {
                                        "name": "first_name"
                                    },
                                    {
                                        "name": "last_name"
                                    },
                                    {
                                        "name": "salary"
                                    }
                                ]
                            },
                            "data": [
                                {
                                    "0": "Ann",
                                    "1": "Lynn",
                                    "2": "140000"
                                },
                                {
                                    "0": "Peter",
                                    "1": "O'connor",
                                    "2": "130000"
                                },
                                {
                                    "0": "Marta",
                                    "1": "Doe",
                                    "2": "180000"
                                },
                                {
                                    "0": "Simon",
                                    "1": "Yang",
                                    "2": "250000"
                                }
                            ]
                        },
                        "text/html": "<table><tr><th>first_name</th><th>last_name</th><th>salary</th></tr><tr><td>Ann</td><td>Lynn</td><td>140000</td></tr><tr><td>Peter</td><td>O'connor</td><td>130000</td></tr><tr><td>Marta</td><td>Doe</td><td>180000</td></tr><tr><td>Simon</td><td>Yang</td><td>250000</td></tr></table>"
                    },
                    "metadata": {}
                }
            ],
            "execution_count": 7
        },
        {
            "cell_type": "code",
            "source": [
                "SELECT first_name,\r\n",
                "       last_name,\r\n",
                "       salary\r\n",
                "FROM ##tmp1 e1\r\n",
                "WHERE salary >\r\n",
                "(\r\n",
                "    SELECT AVG(salary) FROM ##tmp1 e2 WHERE e1.dept_id = e2.dept_id\r\n",
                ")"
            ],
            "metadata": {
                "language": "sql",
                "azdata_cell_guid": "d933dae1-23df-4d8d-9c4f-a0a0048dc40f"
            },
            "outputs": [
                {
                    "output_type": "display_data",
                    "data": {
                        "text/html": "命令已成功完成。"
                    },
                    "metadata": {}
                },
                {
                    "output_type": "display_data",
                    "data": {
                        "text/html": "执行时间总计: 00:00:00.015"
                    },
                    "metadata": {}
                },
                {
                    "output_type": "execute_result",
                    "metadata": {},
                    "execution_count": 6,
                    "data": {
                        "application/vnd.dataresource+json": {
                            "schema": {
                                "fields": [
                                    {
                                        "name": "first_name"
                                    },
                                    {
                                        "name": "last_name"
                                    },
                                    {
                                        "name": "salary"
                                    }
                                ]
                            },
                            "data": [
                                {
                                    "0": "Ann",
                                    "1": "Danner",
                                    "2": "90000"
                                },
                                {
                                    "0": "Peter",
                                    "1": "O'connor",
                                    "2": "130000"
                                },
                                {
                                    "0": "Marta",
                                    "1": "Doe",
                                    "2": "180000"
                                },
                                {
                                    "0": "Ann",
                                    "1": "Lynn",
                                    "2": "140000"
                                }
                            ]
                        },
                        "text/html": [
                            "<table>",
                            "<tr><th>first_name</th><th>last_name</th><th>salary</th></tr>",
                            "<tr><td>Ann</td><td>Danner</td><td>90000</td></tr>",
                            "<tr><td>Peter</td><td>O'connor</td><td>130000</td></tr>",
                            "<tr><td>Marta</td><td>Doe</td><td>180000</td></tr>",
                            "<tr><td>Ann</td><td>Lynn</td><td>140000</td></tr>",
                            "</table>"
                        ]
                    }
                }
            ],
            "execution_count": 6
        },
        {
            "cell_type": "code",
            "source": [
                "SELECT employee_id,\r\n",
                "       last_name,\r\n",
                "       first_name,\r\n",
                "       dept_id,\r\n",
                "       manager_id,\r\n",
                "       salary\r\n",
                "FROM ##tmp1\r\n",
                "GROUP BY employee_id,\r\n",
                "         last_name,\r\n",
                "         first_name,\r\n",
                "         dept_id,\r\n",
                "         manager_id,\r\n",
                "         salary\r\n",
                "HAVING COUNT(*) > 1"
            ],
            "metadata": {
                "language": "sql",
                "azdata_cell_guid": "2a751e86-dcc0-4b65-95d1-a03b64967b57"
            },
            "outputs": [
                {
                    "output_type": "display_data",
                    "data": {
                        "text/html": "命令已成功完成。"
                    },
                    "metadata": {}
                },
                {
                    "output_type": "display_data",
                    "data": {
                        "text/html": "执行时间总计: 00:00:00.025"
                    },
                    "metadata": {}
                },
                {
                    "output_type": "execute_result",
                    "metadata": {},
                    "execution_count": 8,
                    "data": {
                        "application/vnd.dataresource+json": {
                            "schema": {
                                "fields": [
                                    {
                                        "name": "employee_id"
                                    },
                                    {
                                        "name": "last_name"
                                    },
                                    {
                                        "name": "first_name"
                                    },
                                    {
                                        "name": "dept_id"
                                    },
                                    {
                                        "name": "manager_id"
                                    },
                                    {
                                        "name": "salary"
                                    }
                                ]
                            },
                            "data": []
                        },
                        "text/html": [
                            "<table>",
                            "<tr><th>employee_id</th><th>last_name</th><th>first_name</th><th>dept_id</th><th>manager_id</th><th>salary</th></tr>",
                            "</table>"
                        ]
                    }
                }
            ],
            "execution_count": 8
        },
        {
            "cell_type": "code",
            "source": [
                "USE TSQLV4;\r\n",
                "SET NOCOUNT ON\r\n",
                "\r\n",
                "CREATE TABLE ##tmp2\r\n",
                "(\r\n",
                "    Rcd_Id INT IDENTITY(1, 1) NOT NULL,\r\n",
                "    id INT,\r\n",
                "    day DATETIME,\r\n",
                "    Registered_Users INT\r\n",
                "        PRIMARY KEY (Rcd_Id)\r\n",
                ")\r\n",
                "\r\n",
                "INSERT INTO ##tmp2\r\n",
                "VALUES\r\n",
                "(1, '2023-1-25', 51)\r\n",
                "INSERT INTO ##tmp2\r\n",
                "VALUES\r\n",
                "(2, '2023-1-26', 46)\r\n",
                "INSERT INTO ##tmp2\r\n",
                "VALUES\r\n",
                "(3, '2023-1-27', 41)\r\n",
                "INSERT INTO ##tmp2\r\n",
                "VALUES\r\n",
                "(4, '2023-1-30', 59)\r\n",
                "INSERT INTO ##tmp2\r\n",
                "VALUES\r\n",
                "(5, '2023-1-31', 73)\r\n",
                "INSERT INTO ##tmp2\r\n",
                "VALUES\r\n",
                "(6, '2023-2-1', 34)\r\n",
                "INSERT INTO ##tmp2\r\n",
                "VALUES\r\n",
                "(7, '2023-2-2', 56)\r\n",
                "INSERT INTO ##tmp2\r\n",
                "VALUES\r\n",
                "(8, '2023-2-4', 34)\r\n",
                "\r\n",
                "SELECT *\r\n",
                "FROM ##tmp2"
            ],
            "metadata": {
                "language": "sql",
                "azdata_cell_guid": "f6cec75d-8053-4fef-9ef7-447f5c284299",
                "tags": []
            },
            "outputs": [
                {
                    "output_type": "error",
                    "evalue": "Msg 2714, Level 16, State 6, Line 4\r\nThere is already an object named '##tmp2' in the database.",
                    "ename": "",
                    "traceback": []
                },
                {
                    "output_type": "display_data",
                    "data": {
                        "text/html": "执行时间总计: 00:00:00.006"
                    },
                    "metadata": {}
                }
            ],
            "execution_count": 17
        },
        {
            "cell_type": "code",
            "source": [
                "WITH data_series\r\n",
                "AS (SELECT RANK() OVER (ORDER BY day) AS row_number,\r\n",
                "           day,\r\n",
                "           day - RANK() OVER (ORDER BY day) AS series_id\r\n",
                "    FROM ##tmp2)\r\n",
                "SELECT MIN(day) AS series_start_date,\r\n",
                "       MAX(day) AS series_end_date,\r\n",
                "       cast((MAX(day) - MIN(day) + 1) AS INT) AS series_length\r\n",
                "FROM data_series\r\n",
                "GROUP BY series_id\r\n",
                "ORDER BY series_start_date\r\n",
                "\r\n",
                "-- Select * from data_series"
            ],
            "metadata": {
                "azdata_cell_guid": "4cc02cab-07a9-4369-b05b-e812cb2ebc94",
                "language": "sql",
                "tags": []
            },
            "outputs": [
                {
                    "output_type": "display_data",
                    "data": {
                        "text/html": "命令已成功完成。"
                    },
                    "metadata": {}
                },
                {
                    "output_type": "display_data",
                    "data": {
                        "text/html": "执行时间总计: 00:00:00.010"
                    },
                    "metadata": {}
                },
                {
                    "output_type": "execute_result",
                    "metadata": {},
                    "execution_count": 28,
                    "data": {
                        "application/vnd.dataresource+json": {
                            "schema": {
                                "fields": [
                                    {
                                        "name": "series_start_date"
                                    },
                                    {
                                        "name": "series_end_date"
                                    },
                                    {
                                        "name": "series_length"
                                    }
                                ]
                            },
                            "data": [
                                {
                                    "0": "2023-01-25 00:00:00.000",
                                    "1": "2023-01-27 00:00:00.000",
                                    "2": "3"
                                },
                                {
                                    "0": "2023-01-30 00:00:00.000",
                                    "1": "2023-02-02 00:00:00.000",
                                    "2": "4"
                                },
                                {
                                    "0": "2023-02-04 00:00:00.000",
                                    "1": "2023-02-04 00:00:00.000",
                                    "2": "1"
                                }
                            ]
                        },
                        "text/html": [
                            "<table>",
                            "<tr><th>series_start_date</th><th>series_end_date</th><th>series_length</th></tr>",
                            "<tr><td>2023-01-25 00:00:00.000</td><td>2023-01-27 00:00:00.000</td><td>3</td></tr>",
                            "<tr><td>2023-01-30 00:00:00.000</td><td>2023-02-02 00:00:00.000</td><td>4</td></tr>",
                            "<tr><td>2023-02-04 00:00:00.000</td><td>2023-02-04 00:00:00.000</td><td>1</td></tr>",
                            "</table>"
                        ]
                    }
                }
            ],
            "execution_count": 28
        },
        {
            "cell_type": "code",
            "source": [
                ""
            ],
            "metadata": {
                "language": "sql",
                "azdata_cell_guid": "c5649025-91da-48a0-b66a-44680914c05a"
            },
            "outputs": [],
            "execution_count": null
        }
    ]
}